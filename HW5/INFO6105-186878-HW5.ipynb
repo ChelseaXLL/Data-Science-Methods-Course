{
 "cells": [
  {
   "cell_type": "raw",
   "metadata": {},
   "source": [
    "INFO6105 18687 and 18688\n",
    "\n",
    "Homework 5: Cross-validation for parameter tuning, model selection, and feature selection (100 points)\n",
    "\n",
    "Due by December 7th."
   ]
  },
  {
   "cell_type": "code",
   "execution_count": 1,
   "metadata": {},
   "outputs": [],
   "source": [
    "import pandas as pd\n",
    "import numpy as np\n",
    "import matplotlib.pyplot as plt\n",
    "from sklearn.neighbors import KNeighborsClassifier\n",
    "from sklearn.linear_model import LogisticRegression\n",
    "from sklearn.model_selection import train_test_split, cross_val_score, GridSearchCV\n",
    "from sklearn.metrics import accuracy_score, f1_score, make_scorer\n",
    "from sklearn.linear_model import LinearRegression\n",
    "import warnings\n",
    "warnings.filterwarnings(\"ignore\")"
   ]
  },
  {
   "cell_type": "raw",
   "metadata": {},
   "source": [
    "1. parameter tuning (42 points)\n",
    "Goal: Select the best tuning parameters (aka \"hyperparameters\") for KNN (K nearest neighbors) on the iris dataset"
   ]
  },
  {
   "cell_type": "markdown",
   "metadata": {},
   "source": [
    "**(0) read in the iris dataset**"
   ]
  },
  {
   "cell_type": "code",
   "execution_count": 2,
   "metadata": {},
   "outputs": [
    {
     "data": {
      "text/html": [
       "<div>\n",
       "<style scoped>\n",
       "    .dataframe tbody tr th:only-of-type {\n",
       "        vertical-align: middle;\n",
       "    }\n",
       "\n",
       "    .dataframe tbody tr th {\n",
       "        vertical-align: top;\n",
       "    }\n",
       "\n",
       "    .dataframe thead th {\n",
       "        text-align: right;\n",
       "    }\n",
       "</style>\n",
       "<table border=\"1\" class=\"dataframe\">\n",
       "  <thead>\n",
       "    <tr style=\"text-align: right;\">\n",
       "      <th></th>\n",
       "      <th>Petal length</th>\n",
       "      <th>Petal Width</th>\n",
       "      <th>Sepal Length</th>\n",
       "      <th>Sepal Width</th>\n",
       "      <th>Species</th>\n",
       "    </tr>\n",
       "  </thead>\n",
       "  <tbody>\n",
       "    <tr>\n",
       "      <th>0</th>\n",
       "      <td>5.1</td>\n",
       "      <td>3.5</td>\n",
       "      <td>1.4</td>\n",
       "      <td>0.2</td>\n",
       "      <td>0</td>\n",
       "    </tr>\n",
       "    <tr>\n",
       "      <th>1</th>\n",
       "      <td>4.9</td>\n",
       "      <td>3.0</td>\n",
       "      <td>1.4</td>\n",
       "      <td>0.2</td>\n",
       "      <td>0</td>\n",
       "    </tr>\n",
       "    <tr>\n",
       "      <th>2</th>\n",
       "      <td>4.7</td>\n",
       "      <td>3.2</td>\n",
       "      <td>1.3</td>\n",
       "      <td>0.2</td>\n",
       "      <td>0</td>\n",
       "    </tr>\n",
       "    <tr>\n",
       "      <th>3</th>\n",
       "      <td>4.6</td>\n",
       "      <td>3.1</td>\n",
       "      <td>1.5</td>\n",
       "      <td>0.2</td>\n",
       "      <td>0</td>\n",
       "    </tr>\n",
       "    <tr>\n",
       "      <th>4</th>\n",
       "      <td>5.0</td>\n",
       "      <td>3.6</td>\n",
       "      <td>1.4</td>\n",
       "      <td>0.2</td>\n",
       "      <td>0</td>\n",
       "    </tr>\n",
       "  </tbody>\n",
       "</table>\n",
       "</div>"
      ],
      "text/plain": [
       "   Petal length  Petal Width  Sepal Length  Sepal Width  Species\n",
       "0           5.1          3.5           1.4          0.2        0\n",
       "1           4.9          3.0           1.4          0.2        0\n",
       "2           4.7          3.2           1.3          0.2        0\n",
       "3           4.6          3.1           1.5          0.2        0\n",
       "4           5.0          3.6           1.4          0.2        0"
      ]
     },
     "execution_count": 2,
     "metadata": {},
     "output_type": "execute_result"
    }
   ],
   "source": [
    "from sklearn.datasets import load_iris\n",
    "# (0) read in the iris data\n",
    "iris = load_iris()\n",
    "df=pd.DataFrame(iris['data'],columns=['Petal length','Petal Width','Sepal Length','Sepal Width'])\n",
    "df['Species']=iris['target']\n",
    "df.head()"
   ]
  },
  {
   "cell_type": "markdown",
   "metadata": {},
   "source": [
    "**(1) create X (features) and y (response) (4 points)**"
   ]
  },
  {
   "cell_type": "code",
   "execution_count": 3,
   "metadata": {},
   "outputs": [],
   "source": [
    "X=df.iloc[:,:-1]\n",
    "y=df.iloc[:,-1]"
   ]
  },
  {
   "cell_type": "code",
   "execution_count": 4,
   "metadata": {},
   "outputs": [],
   "source": [
    "X_train, X_test, y_train, y_test=train_test_split(X,y,test_size=0.2,random_state=25)"
   ]
  },
  {
   "cell_type": "markdown",
   "metadata": {},
   "source": [
    "**(2) 10-fold cross-validation with K=5 for KNN (the n_neighbors parameter), scoring is 'accuracy' (8 points)**"
   ]
  },
  {
   "cell_type": "code",
   "execution_count": 5,
   "metadata": {},
   "outputs": [
    {
     "data": {
      "text/plain": [
       "KNeighborsClassifier(algorithm='auto', leaf_size=30, metric='minkowski',\n",
       "           metric_params=None, n_jobs=None, n_neighbors=5, p=2,\n",
       "           weights='uniform')"
      ]
     },
     "execution_count": 5,
     "metadata": {},
     "output_type": "execute_result"
    }
   ],
   "source": [
    "knn=KNeighborsClassifier(n_neighbors=5, metric='minkowski',p=2)\n",
    "knn.fit(X_train,y_train)"
   ]
  },
  {
   "cell_type": "code",
   "execution_count": 6,
   "metadata": {},
   "outputs": [
    {
     "data": {
      "text/plain": [
       "array([0.92857143, 1.        , 1.        , 1.        , 1.        ,\n",
       "       0.91666667, 1.        , 0.90909091, 1.        , 1.        ])"
      ]
     },
     "execution_count": 6,
     "metadata": {},
     "output_type": "execute_result"
    }
   ],
   "source": [
    "accuracies_knn = cross_val_score(estimator = knn, X = X_train, y = y_train, cv = 10, scoring='accuracy')\n",
    "accuracies_knn"
   ]
  },
  {
   "cell_type": "code",
   "execution_count": 6,
   "metadata": {},
   "outputs": [],
   "source": [
    "y_preds_knn=knn.predict(X_test)"
   ]
  },
  {
   "cell_type": "markdown",
   "metadata": {},
   "source": [
    "**(3) use average accuracy as an estimate of out-of-sample accuracy (4 points)**"
   ]
  },
  {
   "cell_type": "code",
   "execution_count": 7,
   "metadata": {},
   "outputs": [
    {
     "name": "stdout",
     "output_type": "stream",
     "text": [
      "Accuracy  rounded up to integer:  93%\n"
     ]
    }
   ],
   "source": [
    "print(\"Accuracy  rounded up to integer: \",\"{:.0%}\".format(accuracy_score(y_test, y_preds_knn)))"
   ]
  },
  {
   "cell_type": "markdown",
   "metadata": {},
   "source": [
    "**(4) search for an optimal value of K for KNN (20 points)**<br>\n",
    "**(5) plot the value of K for KNN (x-axis) versus the cross-validated accuracy (y-axis) (6 points) -- Thrid Chart**"
   ]
  },
  {
   "cell_type": "markdown",
   "metadata": {},
   "source": [
    "**2 options** here: Either use **accuracy score** or **F1-Score**, I used both"
   ]
  },
  {
   "cell_type": "code",
   "execution_count": 8,
   "metadata": {},
   "outputs": [],
   "source": [
    "def choose_best_K(dataframe):\n",
    "    \n",
    "    #Split data\n",
    "    X=dataframe.iloc[:,:-1]\n",
    "    y=dataframe.iloc[:,-1]\n",
    "    \n",
    "    X_train, X_test, y_train, y_test=train_test_split(X,y,test_size=0.2,random_state=25)\n",
    "    \n",
    "    accuracy_score_=[]\n",
    "    f1_score_=[]\n",
    "    cross_val_score_=[]\n",
    " \n",
    "    \n",
    "    #Loop over the range to train the model\n",
    "    for k in range(1,50):\n",
    "        knn=KNeighborsClassifier(n_neighbors=k, metric='minkowski',p=2)\n",
    "        knn.fit(X_train,y_train)\n",
    "        y_preds=knn.predict(X_test)\n",
    "        \n",
    "        accuracies_knn = cross_val_score(estimator = knn, X = X_train, y = y_train, cv = 10)\n",
    "        accuracy_score_.append(accuracy_score(y_test, y_preds))\n",
    "        f1_score_.append(accuracy_score(y_test, y_preds))\n",
    "       \n",
    "            \n",
    "    #Visualization \n",
    "    \n",
    "    fig=plt.figure(figsize=(14,8))\n",
    "    \n",
    "    ax1=fig.add_subplot(3,1,1)\n",
    "    ax2=fig.add_subplot(3,1,2)\n",
    "    ax3=fig.add_subplot(3,1,3)\n",
    "    \n",
    "    #Accuracy Score\n",
    "    ax1.plot(range(1,50),accuracy_score_,'o--')\n",
    "    ax1.set_xlabel(\"Number of K\")\n",
    "    ax1.set_ylabel(\"Accuracy Score\")\n",
    "    ax1.set_title(\"Accuracy Score Method\")\n",
    "    ax1.text(8,0.98,\"Best: 14\")\n",
    "    \n",
    "    #F1\n",
    "    ax2.plot(range(1,50),f1_score_,'o--')\n",
    "    ax2.set_xlabel(\"Number of K\")\n",
    "    ax2.set_ylabel(\"F1 Score\")\n",
    "    ax2.set_title(\"F1 Score Method\")\n",
    "    ax2.text(8,0.98,\"Best: 14\")\n",
    "    \n",
    "    #Cross validated Score\n",
    "    ax3.plot(range(1,11),accuracies_knn,'ro-')\n",
    "    ax3.set_xlabel(\"Number of Fold\")\n",
    "    ax3.set_ylabel(\"Cross vlidated Score\")\n",
    "    ax3.set_title(\"Cross vlidated Score\")\n",
    "    \n",
    "    plt.tight_layout()\n",
    "    \n",
    "    print(accuracies_knn)"
   ]
  },
  {
   "cell_type": "code",
   "execution_count": 9,
   "metadata": {},
   "outputs": [
    {
     "name": "stdout",
     "output_type": "stream",
     "text": [
      "[0.71428571 1.         0.75       1.         0.91666667 0.91666667\n",
      " 0.91666667 0.81818182 0.90909091 1.        ]\n"
     ]
    },
    {
     "data": {
      "image/png": "[encoded data removed]",
      "text/plain": [
       "<Figure size 1008x576 with 3 Axes>"
      ]
     },
     "metadata": {
      "needs_background": "light"
     },
     "output_type": "display_data"
    }
   ],
   "source": [
    "choose_best_K(df)"
   ]
  },
  {
   "cell_type": "markdown",
   "metadata": {},
   "source": [
    "First point reached 100% accuracy in both Accuracy & F1 Score is 14, so 14 should be the optimal value for number of K "
   ]
  },
  {
   "cell_type": "raw",
   "metadata": {},
   "source": [
    "2. model selection (12 points)\n",
    "Goal: Compare the best KNN model with logistic regression on the iris dataset"
   ]
  },
  {
   "cell_type": "markdown",
   "metadata": {},
   "source": [
    "**(1) 10-fold cross-validation with the best KNN model, scoring is 'accuracy' (6 points)**<br>\n",
    "**(2) 10-fold cross-validation with logistic regression, scoring is 'accuracy' (6 points)**"
   ]
  },
  {
   "cell_type": "code",
   "execution_count": 10,
   "metadata": {},
   "outputs": [],
   "source": [
    "def compare_model(dataframe):\n",
    "  \n",
    "    X=dataframe.iloc[:,:-1]\n",
    "    y=dataframe.iloc[:,-1]\n",
    "    \n",
    "    X_train, X_test, y_train, y_test=train_test_split(X,y,test_size=0.2,random_state=25)   \n",
    "    \n",
    "    knn=KNeighborsClassifier(n_neighbors=14, metric='minkowski',p=2)\n",
    "    knn.fit(X_train,y_train)\n",
    "    knn_y_preds=knn.predict(X_test)\n",
    "    \n",
    "    lg=LogisticRegression()\n",
    "    lg.fit(X_train,y_train)\n",
    "    lg_y_preds=lg.predict(X_test)\n",
    "    \n",
    "    knn_accuracies=cross_val_score(estimator=knn, X=X_train, y=y_train, cv=10, scoring='accuracy')\n",
    "    lg_accuracies=cross_val_score(estimator=lg, X=X_train, y=y_train, cv=10, scoring='accuracy')\n",
    "    \n",
    "    print(\"Max Accuracy for both models:\")\n",
    "    print(\"MAX KNN: \",knn_accuracies.max())\n",
    "    print(\"MAX Logistic Regression: \",lg_accuracies.max())\n",
    "    print(\"\\n\")\n",
    "    print(\"Average Accuracy for both models:\")\n",
    "    print(\"KNN: \",np.mean(knn_accuracies))\n",
    "    print(\"Logistic Regression: \",np.mean(lg_accuracies))\n",
    "    print(\"\\n\")\n",
    "    \n",
    "    if knn_accuracies.max() > lg_accuracies.max():\n",
    "        print(\"Conclusion: KNN outperforms Logistic Regression\")\n",
    "        \n",
    "    elif knn_accuracies.max() == lg_accuracies.max():\n",
    "        if np.mean(knn_accuracies)>np.mean(lg_accuracies):\n",
    "            print(\"Conclusion: KNN outperforms Logistic Regression\")\n",
    "        elif np.mean(knn_accuracies)==np.mean(lg_accuracies):\n",
    "            print(\"Conclusion: Tie\")\n",
    "        else:\n",
    "            print(\"Conclusion: Logistic Regression outperforms KNN\") \n",
    "    else:\n",
    "        print(\"Conclusion: Logistic Regression outperforms KNN\")"
   ]
  },
  {
   "cell_type": "code",
   "execution_count": 11,
   "metadata": {},
   "outputs": [
    {
     "name": "stdout",
     "output_type": "stream",
     "text": [
      "Max Accuracy for both models:\n",
      "MAX KNN:  1.0\n",
      "MAX Logistic Regression:  1.0\n",
      "\n",
      "\n",
      "Average Accuracy for both models:\n",
      "KNN:  0.9742424242424242\n",
      "Logistic Regression:  0.9484848484848485\n",
      "\n",
      "\n",
      "Conclusion: KNN outperforms Logistic Regression\n"
     ]
    }
   ],
   "source": [
    "compare_model(df)"
   ]
  },
  {
   "cell_type": "raw",
   "metadata": {},
   "source": [
    "3. feature selection (46 points)\n",
    "Goal: Select whether the Newspaper feature should be included in the linear regression model on the advertising dataset"
   ]
  },
  {
   "cell_type": "markdown",
   "metadata": {},
   "source": [
    "**(0) read in the advertising dataset**"
   ]
  },
  {
   "cell_type": "code",
   "execution_count": 12,
   "metadata": {},
   "outputs": [
    {
     "data": {
      "text/html": [
       "<div>\n",
       "<style scoped>\n",
       "    .dataframe tbody tr th:only-of-type {\n",
       "        vertical-align: middle;\n",
       "    }\n",
       "\n",
       "    .dataframe tbody tr th {\n",
       "        vertical-align: top;\n",
       "    }\n",
       "\n",
       "    .dataframe thead th {\n",
       "        text-align: right;\n",
       "    }\n",
       "</style>\n",
       "<table border=\"1\" class=\"dataframe\">\n",
       "  <thead>\n",
       "    <tr style=\"text-align: right;\">\n",
       "      <th></th>\n",
       "      <th>TV</th>\n",
       "      <th>Radio</th>\n",
       "      <th>Newspaper</th>\n",
       "      <th>Sales</th>\n",
       "    </tr>\n",
       "  </thead>\n",
       "  <tbody>\n",
       "    <tr>\n",
       "      <th>1</th>\n",
       "      <td>230.1</td>\n",
       "      <td>37.8</td>\n",
       "      <td>69.2</td>\n",
       "      <td>22.1</td>\n",
       "    </tr>\n",
       "    <tr>\n",
       "      <th>2</th>\n",
       "      <td>44.5</td>\n",
       "      <td>39.3</td>\n",
       "      <td>45.1</td>\n",
       "      <td>10.4</td>\n",
       "    </tr>\n",
       "    <tr>\n",
       "      <th>3</th>\n",
       "      <td>17.2</td>\n",
       "      <td>45.9</td>\n",
       "      <td>69.3</td>\n",
       "      <td>9.3</td>\n",
       "    </tr>\n",
       "    <tr>\n",
       "      <th>4</th>\n",
       "      <td>151.5</td>\n",
       "      <td>41.3</td>\n",
       "      <td>58.5</td>\n",
       "      <td>18.5</td>\n",
       "    </tr>\n",
       "    <tr>\n",
       "      <th>5</th>\n",
       "      <td>180.8</td>\n",
       "      <td>10.8</td>\n",
       "      <td>58.4</td>\n",
       "      <td>12.9</td>\n",
       "    </tr>\n",
       "  </tbody>\n",
       "</table>\n",
       "</div>"
      ],
      "text/plain": [
       "      TV  Radio  Newspaper  Sales\n",
       "1  230.1   37.8       69.2   22.1\n",
       "2   44.5   39.3       45.1   10.4\n",
       "3   17.2   45.9       69.3    9.3\n",
       "4  151.5   41.3       58.5   18.5\n",
       "5  180.8   10.8       58.4   12.9"
      ]
     },
     "execution_count": 12,
     "metadata": {},
     "output_type": "execute_result"
    }
   ],
   "source": [
    "# (0) read in the advertising dataset\n",
    "data = pd.read_csv('Advertising.csv', index_col=0)\n",
    "data.head()"
   ]
  },
  {
   "cell_type": "markdown",
   "metadata": {},
   "source": [
    "**(1) create a Python list of three feature names: TV, radio, newpaper (5 points)**"
   ]
  },
  {
   "cell_type": "code",
   "execution_count": 13,
   "metadata": {},
   "outputs": [],
   "source": [
    "feature_list=[\"TV\",\"Radio\",\"Newspaper\"]"
   ]
  },
  {
   "cell_type": "markdown",
   "metadata": {},
   "source": [
    "**(2) use the list to select a subset of the DataFrame (X) (5 points)**"
   ]
  },
  {
   "cell_type": "code",
   "execution_count": 14,
   "metadata": {},
   "outputs": [
    {
     "data": {
      "text/html": [
       "<div>\n",
       "<style scoped>\n",
       "    .dataframe tbody tr th:only-of-type {\n",
       "        vertical-align: middle;\n",
       "    }\n",
       "\n",
       "    .dataframe tbody tr th {\n",
       "        vertical-align: top;\n",
       "    }\n",
       "\n",
       "    .dataframe thead th {\n",
       "        text-align: right;\n",
       "    }\n",
       "</style>\n",
       "<table border=\"1\" class=\"dataframe\">\n",
       "  <thead>\n",
       "    <tr style=\"text-align: right;\">\n",
       "      <th></th>\n",
       "      <th>TV</th>\n",
       "      <th>Radio</th>\n",
       "      <th>Newspaper</th>\n",
       "    </tr>\n",
       "  </thead>\n",
       "  <tbody>\n",
       "    <tr>\n",
       "      <th>1</th>\n",
       "      <td>230.1</td>\n",
       "      <td>37.8</td>\n",
       "      <td>69.2</td>\n",
       "    </tr>\n",
       "    <tr>\n",
       "      <th>2</th>\n",
       "      <td>44.5</td>\n",
       "      <td>39.3</td>\n",
       "      <td>45.1</td>\n",
       "    </tr>\n",
       "    <tr>\n",
       "      <th>3</th>\n",
       "      <td>17.2</td>\n",
       "      <td>45.9</td>\n",
       "      <td>69.3</td>\n",
       "    </tr>\n",
       "    <tr>\n",
       "      <th>4</th>\n",
       "      <td>151.5</td>\n",
       "      <td>41.3</td>\n",
       "      <td>58.5</td>\n",
       "    </tr>\n",
       "    <tr>\n",
       "      <th>5</th>\n",
       "      <td>180.8</td>\n",
       "      <td>10.8</td>\n",
       "      <td>58.4</td>\n",
       "    </tr>\n",
       "  </tbody>\n",
       "</table>\n",
       "</div>"
      ],
      "text/plain": [
       "      TV  Radio  Newspaper\n",
       "1  230.1   37.8       69.2\n",
       "2   44.5   39.3       45.1\n",
       "3   17.2   45.9       69.3\n",
       "4  151.5   41.3       58.5\n",
       "5  180.8   10.8       58.4"
      ]
     },
     "execution_count": 14,
     "metadata": {},
     "output_type": "execute_result"
    }
   ],
   "source": [
    "X=data[feature_list]\n",
    "X.head()"
   ]
  },
  {
   "cell_type": "markdown",
   "metadata": {},
   "source": [
    "**(3) select the sales column as the response (y) (5 points)**"
   ]
  },
  {
   "cell_type": "code",
   "execution_count": 15,
   "metadata": {},
   "outputs": [
    {
     "data": {
      "text/plain": [
       "1    22.1\n",
       "2    10.4\n",
       "3     9.3\n",
       "4    18.5\n",
       "5    12.9\n",
       "Name: Sales, dtype: float64"
      ]
     },
     "execution_count": 15,
     "metadata": {},
     "output_type": "execute_result"
    }
   ],
   "source": [
    "y=data['Sales']\n",
    "y.head()"
   ]
  },
  {
   "cell_type": "markdown",
   "metadata": {},
   "source": [
    "**(4) 10-fold cross-validation with all three features, scoring is 'neg_mean_squared_error' (6 points)**"
   ]
  },
  {
   "cell_type": "code",
   "execution_count": 16,
   "metadata": {},
   "outputs": [],
   "source": [
    "X_train, X_test, y_train, y_test=train_test_split(X,y,test_size=0.2, random_state=25)"
   ]
  },
  {
   "cell_type": "code",
   "execution_count": 17,
   "metadata": {},
   "outputs": [
    {
     "data": {
      "text/plain": [
       "array([-3.56038438, -3.29767522, -2.08943356, -2.82474283, -1.3027754 ,\n",
       "       -1.74163618, -8.17338214, -2.11409746, -3.04273109, -2.45281793])"
      ]
     },
     "execution_count": 17,
     "metadata": {},
     "output_type": "execute_result"
    }
   ],
   "source": [
    "accuracies_nmse=cross_val_score(estimator = LinearRegression(), X=X, y=y, cv = 10,scoring='neg_mean_squared_error')\n",
    "accuracies_nmse"
   ]
  },
  {
   "cell_type": "markdown",
   "metadata": {},
   "source": [
    "**(5) fix the sign of MSE scores (5 points)**"
   ]
  },
  {
   "cell_type": "code",
   "execution_count": 18,
   "metadata": {},
   "outputs": [
    {
     "data": {
      "text/plain": [
       "array([3.56038438, 3.29767522, 2.08943356, 2.82474283, 1.3027754 ,\n",
       "       1.74163618, 8.17338214, 2.11409746, 3.04273109, 2.45281793])"
      ]
     },
     "execution_count": 18,
     "metadata": {},
     "output_type": "execute_result"
    }
   ],
   "source": [
    "accuracies_mse = -1*cross_val_score(estimator = LinearRegression(), X=X, y=y, cv = 10, scoring=\"neg_mean_squared_error\")\n",
    "accuracies_mse"
   ]
  },
  {
   "cell_type": "markdown",
   "metadata": {},
   "source": [
    "**(6) convert from MSE to RMSE (5 points)**"
   ]
  },
  {
   "cell_type": "code",
   "execution_count": 19,
   "metadata": {},
   "outputs": [
    {
     "data": {
      "text/plain": [
       "array([1.88689808, 1.81595022, 1.44548731, 1.68069713, 1.14139187,\n",
       "       1.31971064, 2.85891276, 1.45399362, 1.7443426 , 1.56614748])"
      ]
     },
     "execution_count": 19,
     "metadata": {},
     "output_type": "execute_result"
    }
   ],
   "source": [
    "accuracies_rmse=np.sqrt(-1*cross_val_score(estimator = LinearRegression(), X=X, y=y, cv = 10,scoring='neg_mean_squared_error'))\n",
    "accuracies_rmse"
   ]
  },
  {
   "cell_type": "markdown",
   "metadata": {},
   "source": [
    "**(7) calculate the average RMSE (5 points)**"
   ]
  },
  {
   "cell_type": "code",
   "execution_count": 20,
   "metadata": {},
   "outputs": [
    {
     "data": {
      "text/plain": [
       "1.6913531708051792"
      ]
     },
     "execution_count": 20,
     "metadata": {},
     "output_type": "execute_result"
    }
   ],
   "source": [
    "np.mean(accuracies_rmse)"
   ]
  },
  {
   "cell_type": "markdown",
   "metadata": {},
   "source": [
    "**(8) 10-fold cross-validation with two features (excluding Newspaper), scoring is'neg_mean_squared_error' (10)**"
   ]
  },
  {
   "cell_type": "code",
   "execution_count": 21,
   "metadata": {},
   "outputs": [
    {
     "data": {
      "text/plain": [
       "array([-3.38264572, -3.28736055, -2.09185507, -2.81784389, -1.27311083,\n",
       "       -1.74391853, -8.0006111 , -2.07650936, -3.03635301, -2.4289835 ])"
      ]
     },
     "execution_count": 21,
     "metadata": {},
     "output_type": "execute_result"
    }
   ],
   "source": [
    "accuracies_nmse=cross_val_score(estimator = LinearRegression(), X=X.drop('Newspaper',axis=1), y=y, cv = 10,scoring='neg_mean_squared_error')\n",
    "accuracies_nmse"
   ]
  }
 ],
 "metadata": {
  "kernelspec": {
   "display_name": "Python 3",
   "language": "python",
   "name": "python3"
  },
  "language_info": {
   "codemirror_mode": {
    "name": "ipython",
    "version": 3
   },
   "file_extension": ".py",
   "mimetype": "text/x-python",
   "name": "python",
   "nbconvert_exporter": "python",
   "pygments_lexer": "ipython3",
   "version": "3.7.3"
  }
 },
 "nbformat": 4,
 "nbformat_minor": 2
}
